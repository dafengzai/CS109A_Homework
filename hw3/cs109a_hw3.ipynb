{
 "cells": [
  {
   "cell_type": "markdown",
   "metadata": {},
   "source": [
    "# CS 109A/STAT 121A/AC 209A/CSCI E-109A: Homework 3\n",
    "# Multiple Linear Regression, Subset Selection, Cross Validation\n",
    "\n",
    "**Harvard University**<br/>\n",
    "**Fall 2017**<br/>\n",
    "**Instructors**: Pavlos Protopapas, Kevin Rader, Rahul Dave, Margo Levine\n",
    "\n",
    "---\n",
    "\n",
    "### INSTRUCTIONS\n",
    "\n",
    "- To submit your assignment follow the instructions given in canvas.\n",
    "- Restart the kernel and run the whole notebook again before you submit. \n",
    "- Do not include your name(s) in the notebook if you are submitting as a group. \n",
    "- If you submit individually and you have worked with someone, please include the name of your [one] partner below. \n",
    "\n",
    "---"
   ]
  },
  {
   "cell_type": "markdown",
   "metadata": {
    "collapsed": true
   },
   "source": [
    "Your partner's name (if you submit separately):\n",
    "\n",
    "Enrollment Status (109A, 121A, 209A, or E109A):"
   ]
  },
  {
   "cell_type": "markdown",
   "metadata": {},
   "source": [
    "Import libraries:"
   ]
  },
  {
   "cell_type": "code",
   "execution_count": 1,
   "metadata": {},
   "outputs": [
    {
     "name": "stderr",
     "output_type": "stream",
     "text": [
      "D:\\Users\\Dafengzai\\Anaconda2\\envs\\tensorflow\\lib\\site-packages\\statsmodels\\compat\\pandas.py:56: FutureWarning: The pandas.core.datetools module is deprecated and will be removed in a future version. Please use the pandas.tseries module instead.\n",
      "  from pandas.core import datetools\n"
     ]
    }
   ],
   "source": [
    "import numpy as np\n",
    "import pandas as pd\n",
    "import matplotlib\n",
    "import matplotlib.pyplot as plt\n",
    "from sklearn.metrics import r2_score\n",
    "import statsmodels.api as sm\n",
    "from statsmodels.api import OLS\n",
    "from sklearn.preprocessing import PolynomialFeatures\n",
    "from sklearn.linear_model import Ridge\n",
    "from sklearn.linear_model import Lasso\n",
    "from sklearn.linear_model import RidgeCV\n",
    "from sklearn.linear_model import LassoCV\n",
    "%matplotlib inline"
   ]
  },
  {
   "cell_type": "markdown",
   "metadata": {},
   "source": [
    "# Forecasting Bike Sharing Usage\n",
    "\n",
    "In this homework, we will focus on multiple linear regression and will explore techniques for subset selection. The specific task is to build a regression model for a bike share system that can predict the total number of bike rentals in a given day, based on attributes about the day. Such a demand forecasting model would be useful in planning the number of bikes that need to be available in the system on any given day, and also in monitoring traffic in the city. The data for this problem was collected from the Capital Bikeshare program in Washington D.C. over two years.   \n",
    "\n",
    "The data set is provided in the files `Bikeshare_train.csv` and `Bikeshare_test.csv`, as separate training and test sets. Each row in these files contains 10 attributes describing a day and its weather:\n",
    "- season (1 = spring, 2 = summer, 3 = fall, 4 = winter)\n",
    "- month (1 through 12, with 1 denoting Jan)\n",
    "- holiday (1 = the day is a holiday, 0 = otherwise)\n",
    "- day_of_week (0 through 6, with 0 denoting Sunday)\n",
    "- workingday (1 = the day is neither a holiday or weekend, 0 = otherwise)\n",
    "- weather \n",
    "    - 1: Clear, Few clouds, Partly cloudy, Partly cloudy\n",
    "    - 2: Mist + Cloudy, Mist + Broken clouds, Mist + Few clouds, Mist\n",
    "    - 3: Light Snow, Light Rain + Thunderstorm + Scattered clouds, Light Rain + Scattered clouds\n",
    "    - 4: Heavy Rain + Ice Pallets + Thunderstorm + Mist, Snow + Fog \n",
    "- temp (temperature in Celsius)\n",
    "- atemp (apparent temperature, or relative outdoor temperature, in Celsius)\n",
    "- humidity (relative humidity)\n",
    "- windspeed (wind speed)\n",
    "\n",
    "and the last column 'count' contains the response variable, i.e. total number of bike rentals on the day.\n"
   ]
  },
  {
   "cell_type": "markdown",
   "metadata": {},
   "source": [
    "## Part (a): Data Exploration & Preprocessing\n",
    "\n",
    "As a first step, identify important characteristics of the data using suitable visualizations when necessary. Some of the questions you may ask include (but are not limited to):\n",
    "\n",
    "- How does the number of bike rentals vary between weekdays and weekends? \n",
    "- How about bike rentals on holidays?\n",
    "- What effect does the season have on the bike rentals on a given day?\n",
    "- Is the number of bike rentals lower than average when there is rain or snow?\n",
    "- How does temperature effect bike rentals?\n",
    "- Do any of the numeric attributes have a clear non-linear dependence with number of the bike rentals?\n",
    "\n"
   ]
  },
  {
   "cell_type": "code",
   "execution_count": 173,
   "metadata": {
    "collapsed": true
   },
   "outputs": [],
   "source": [
    "#your code here\n",
    "train = pd.read_csv(\"Bikeshare_train.csv\", index_col = 0)\n",
    "test = pd.read_csv(\"Bikeshare_test.csv\", index_col = 0)"
   ]
  },
  {
   "cell_type": "code",
   "execution_count": 174,
   "metadata": {
    "collapsed": true
   },
   "outputs": [],
   "source": [
    "train[['season','month','holiday','day_of_week','workingday','weather','temp','atemp']] = train[['season','month','holiday','day_of_week','workingday','weather','temp','atemp']].astype('int')"
   ]
  },
  {
   "cell_type": "code",
   "execution_count": 175,
   "metadata": {
    "collapsed": true
   },
   "outputs": [],
   "source": [
    "train = train.rename(columns = {'count':'rentals'}) #count is a demand in dataframe"
   ]
  },
  {
   "cell_type": "code",
   "execution_count": 200,
   "metadata": {
    "collapsed": true
   },
   "outputs": [],
   "source": [
    "test[['season','month','holiday','day_of_week','workingday','weather','temp','atemp']] = test[['season','month','holiday','day_of_week','workingday','weather','temp','atemp']].astype('int')\n",
    "test = test.rename(columns = {'count':'rentals'})"
   ]
  },
  {
   "cell_type": "code",
   "execution_count": 176,
   "metadata": {},
   "outputs": [
    {
     "data": {
      "text/html": [
       "<div>\n",
       "<style>\n",
       "    .dataframe thead tr:only-child th {\n",
       "        text-align: right;\n",
       "    }\n",
       "\n",
       "    .dataframe thead th {\n",
       "        text-align: left;\n",
       "    }\n",
       "\n",
       "    .dataframe tbody tr th {\n",
       "        vertical-align: top;\n",
       "    }\n",
       "</style>\n",
       "<table border=\"1\" class=\"dataframe\">\n",
       "  <thead>\n",
       "    <tr style=\"text-align: right;\">\n",
       "      <th></th>\n",
       "      <th>season</th>\n",
       "      <th>month</th>\n",
       "      <th>holiday</th>\n",
       "      <th>day_of_week</th>\n",
       "      <th>workingday</th>\n",
       "      <th>weather</th>\n",
       "      <th>temp</th>\n",
       "      <th>atemp</th>\n",
       "      <th>humidity</th>\n",
       "      <th>windspeed</th>\n",
       "      <th>rentals</th>\n",
       "    </tr>\n",
       "  </thead>\n",
       "  <tbody>\n",
       "    <tr>\n",
       "      <th>0</th>\n",
       "      <td>2</td>\n",
       "      <td>5</td>\n",
       "      <td>0</td>\n",
       "      <td>2</td>\n",
       "      <td>1</td>\n",
       "      <td>2</td>\n",
       "      <td>24</td>\n",
       "      <td>26</td>\n",
       "      <td>76.5833</td>\n",
       "      <td>0.118167</td>\n",
       "      <td>6073.0</td>\n",
       "    </tr>\n",
       "    <tr>\n",
       "      <th>1</th>\n",
       "      <td>4</td>\n",
       "      <td>12</td>\n",
       "      <td>0</td>\n",
       "      <td>2</td>\n",
       "      <td>1</td>\n",
       "      <td>1</td>\n",
       "      <td>15</td>\n",
       "      <td>19</td>\n",
       "      <td>73.3750</td>\n",
       "      <td>0.174129</td>\n",
       "      <td>6606.0</td>\n",
       "    </tr>\n",
       "    <tr>\n",
       "      <th>2</th>\n",
       "      <td>2</td>\n",
       "      <td>6</td>\n",
       "      <td>0</td>\n",
       "      <td>4</td>\n",
       "      <td>1</td>\n",
       "      <td>1</td>\n",
       "      <td>26</td>\n",
       "      <td>28</td>\n",
       "      <td>56.9583</td>\n",
       "      <td>0.253733</td>\n",
       "      <td>7363.0</td>\n",
       "    </tr>\n",
       "    <tr>\n",
       "      <th>3</th>\n",
       "      <td>4</td>\n",
       "      <td>12</td>\n",
       "      <td>0</td>\n",
       "      <td>0</td>\n",
       "      <td>0</td>\n",
       "      <td>1</td>\n",
       "      <td>0</td>\n",
       "      <td>4</td>\n",
       "      <td>58.6250</td>\n",
       "      <td>0.169779</td>\n",
       "      <td>2431.0</td>\n",
       "    </tr>\n",
       "    <tr>\n",
       "      <th>4</th>\n",
       "      <td>3</td>\n",
       "      <td>9</td>\n",
       "      <td>0</td>\n",
       "      <td>3</td>\n",
       "      <td>1</td>\n",
       "      <td>3</td>\n",
       "      <td>23</td>\n",
       "      <td>23</td>\n",
       "      <td>91.7083</td>\n",
       "      <td>0.097021</td>\n",
       "      <td>1996.0</td>\n",
       "    </tr>\n",
       "  </tbody>\n",
       "</table>\n",
       "</div>"
      ],
      "text/plain": [
       "   season  month  holiday  day_of_week  workingday  weather  temp  atemp  \\\n",
       "0       2      5        0            2           1        2    24     26   \n",
       "1       4     12        0            2           1        1    15     19   \n",
       "2       2      6        0            4           1        1    26     28   \n",
       "3       4     12        0            0           0        1     0      4   \n",
       "4       3      9        0            3           1        3    23     23   \n",
       "\n",
       "   humidity  windspeed  rentals  \n",
       "0   76.5833   0.118167   6073.0  \n",
       "1   73.3750   0.174129   6606.0  \n",
       "2   56.9583   0.253733   7363.0  \n",
       "3   58.6250   0.169779   2431.0  \n",
       "4   91.7083   0.097021   1996.0  "
      ]
     },
     "execution_count": 176,
     "metadata": {},
     "output_type": "execute_result"
    }
   ],
   "source": [
    "train.head()"
   ]
  },
  {
   "cell_type": "code",
   "execution_count": 177,
   "metadata": {},
   "outputs": [
    {
     "data": {
      "text/plain": [
       "count     331.000000\n",
       "mean     4598.447130\n",
       "std      1935.319338\n",
       "min       431.000000\n",
       "25%      3370.000000\n",
       "50%      4648.000000\n",
       "75%      5981.000000\n",
       "max      8714.000000\n",
       "Name: rentals, dtype: float64"
      ]
     },
     "execution_count": 177,
     "metadata": {},
     "output_type": "execute_result"
    }
   ],
   "source": [
    "train.rentals.describe()\n",
    "#The average of rentals are 4598"
   ]
  },
  {
   "cell_type": "markdown",
   "metadata": {},
   "source": [
    "your answers here"
   ]
  },
  {
   "cell_type": "markdown",
   "metadata": {},
   "source": [
    "- How does the number of bike rentals vary between weekdays and weekends?  \n",
    "租金在周末会出现下滑。"
   ]
  },
  {
   "cell_type": "code",
   "execution_count": 106,
   "metadata": {},
   "outputs": [
    {
     "name": "stdout",
     "output_type": "stream",
     "text": [
      "The number of bike rentals in weekdays are: 4643.862661\n",
      "The number of bike rentals in weekends are: 4490.469388\n"
     ]
    }
   ],
   "source": [
    "rentals_weekdays = train.loc[(train.day_of_week!=0)&(train.day_of_week!=6)].rentals.mean()\n",
    "rentals_weekends = train.loc[(train.day_of_week==0)|(train.day_of_week==6)].rentals.mean()\n",
    "print(\"The number of bike rentals in weekdays are: %f\" %rentals_weekdays)\n",
    "print(\"The number of bike rentals in weekends are: %f\" %rentals_weekends)"
   ]
  },
  {
   "cell_type": "markdown",
   "metadata": {},
   "source": [
    "- How about bike rentals on holidays?  \n",
    "假日时租金出现下滑。"
   ]
  },
  {
   "cell_type": "code",
   "execution_count": 100,
   "metadata": {},
   "outputs": [
    {
     "data": {
      "text/plain": [
       "4199.181818181818"
      ]
     },
     "execution_count": 100,
     "metadata": {},
     "output_type": "execute_result"
    }
   ],
   "source": [
    "train.loc[train.holiday==1].rentals.mean()"
   ]
  },
  {
   "cell_type": "markdown",
   "metadata": {},
   "source": [
    "- What effect does the season have on the bike rentals on a given day?  \n",
    "秋季时租金收入最高，夏季与冬季次之，而春季收入则最低。可以认为秋天时的气候人们更愿意骑车，收入最高，而春天时出行不愿意选择自行车，造成收入为最低。"
   ]
  },
  {
   "cell_type": "code",
   "execution_count": 93,
   "metadata": {},
   "outputs": [
    {
     "name": "stdout",
     "output_type": "stream",
     "text": [
      "The rentals on a given day in spring are: 2639.722222\n",
      "The rentals on a given day in summer are: 4985.744186\n",
      "The rentals on a given day in fall are: 5680.738636\n",
      "The rentals on a given day in winter are: 4745.258824\n"
     ]
    }
   ],
   "source": [
    "print(\"The rentals on a given day in spring are: %f\" %train.loc[train.season==1].rentals.mean())\n",
    "print(\"The rentals on a given day in summer are: %f\" %train.loc[train.season==2].rentals.mean())\n",
    "print(\"The rentals on a given day in fall are: %f\" %train.loc[train.season==3].rentals.mean())\n",
    "print(\"The rentals on a given day in winter are: %f\" %train.loc[train.season==4].rentals.mean())"
   ]
  },
  {
   "cell_type": "markdown",
   "metadata": {},
   "source": [
    "- Is the number of bike rentals lower than average when there is rain or snow?  \n",
    "YES"
   ]
  },
  {
   "cell_type": "code",
   "execution_count": 108,
   "metadata": {},
   "outputs": [
    {
     "data": {
      "text/plain": [
       "1736.2"
      ]
     },
     "execution_count": 108,
     "metadata": {},
     "output_type": "execute_result"
    }
   ],
   "source": [
    "train[(train.weather==3)|(train.weather==4)].rentals.mean()"
   ]
  },
  {
   "cell_type": "markdown",
   "metadata": {},
   "source": [
    "- How does temperature effect bike rentals?  \n",
    "在20度以下时租金随着温度的升高而升高，在20至30度附件租金达到最高，之后随着温度升高而缓慢降低。"
   ]
  },
  {
   "cell_type": "code",
   "execution_count": 118,
   "metadata": {},
   "outputs": [
    {
     "data": {
      "text/plain": [
       "<matplotlib.text.Text at 0x1956fdcbc50>"
      ]
     },
     "execution_count": 118,
     "metadata": {},
     "output_type": "execute_result"
    },
    {
     "data": {
      "image/png": "[encoded data removed]",
      "text/plain": [
       "<matplotlib.figure.Figure at 0x1956fda1198>"
      ]
     },
     "metadata": {},
     "output_type": "display_data"
    }
   ],
   "source": [
    "x = sorted(train.temp.unique())\n",
    "y = [train[train.temp==i].rentals.mean() for i in x]\n",
    "plt.plot(x, y)\n",
    "plt.xlabel('temperature')\n",
    "plt.ylabel('rentals')"
   ]
  },
  {
   "cell_type": "markdown",
   "metadata": {},
   "source": [
    "- Do any of the numeric attributes have a clear non-linear dependence with number of the bike rentals?  \n",
    "有3个，分别是星期几(day_of_week)、湿度(humidity)与风速(windspeed)"
   ]
  },
  {
   "cell_type": "code",
   "execution_count": 141,
   "metadata": {},
   "outputs": [
    {
     "data": {
      "text/plain": [
       "<matplotlib.text.Text at 0x19571a3fb38>"
      ]
     },
     "execution_count": 141,
     "metadata": {},
     "output_type": "execute_result"
    },
    {
     "data": {
      "image/png": "[encoded data removed]",
      "text/plain": [
       "<matplotlib.figure.Figure at 0x19571c66668>"
      ]
     },
     "metadata": {},
     "output_type": "display_data"
    }
   ],
   "source": [
    "fig, ax = plt.subplots(2,3, sharey = True, figsize = (12,6))\n",
    "x = sorted(train.month.unique())\n",
    "y = [train[train.month==i].rentals.mean() for i in x]\n",
    "ax[0,0].plot(x, y,)\n",
    "ax[0,0].set_title(\"month\")\n",
    "x = sorted(train.day_of_week.unique())\n",
    "y = [train[train.day_of_week==i].rentals.mean() for i in x]\n",
    "ax[0,1].plot(x, y)\n",
    "ax[0,1].set_title(\"day_of_week\")\n",
    "x = sorted(train.atemp.unique())\n",
    "y = [train[train.atemp==i].rentals.mean() for i in x]\n",
    "ax[0,2].plot(x, y)\n",
    "ax[0,2].set_title(\"atemp\")\n",
    "x = sorted(train.humidity.unique())\n",
    "y = [train[train.humidity==i].rentals.mean() for i in x]\n",
    "ax[1,0].plot(x, y)\n",
    "ax[1,0].set_title(\"humidity\")\n",
    "x = sorted(train.windspeed.unique())\n",
    "y = [train[train.windspeed==i].rentals.mean() for i in x]\n",
    "ax[1,1].plot(x, y)\n",
    "ax[1,1].set_title(\"windspeed\")"
   ]
  },
  {
   "cell_type": "markdown",
   "metadata": {},
   "source": [
    "We next require you to pre-process the categorical and numerical attributes in the data set:\n",
    "\n",
    "- Notice that this data set contains categorical attributes with two or more categories. **Why can't they be directly used as predictors?** Convert these categorical attributes into multiple binary attributes using one-hot encoding: in the place of every categorical attribute $x_j$ that has categories $1, \\ldots, K_j$, introduce $K_j-1$ binary predictors $x_{j1}, \\ldots, x_{j,K_j-1}$ where $x_{jk}$ is 1 whenever $x_j = k$ and 0 otherwise. \n",
    "** Why is it okay to not have a binary column for the $K_j$-th category? **\n",
    "\n",
    "- Since the attributes are in different scales, it is a good practice to standardize the continuous predictors, i.e. to scale each continuous predictor to have zero mean and a standard deviation of 1. This can be done by applying the following transform to each continuous-valued predictor $j$:\n",
    "$\\hat{x}_{ij} = (x_{ij} - \\bar{x}_j) / s_j$, where $\\bar{x}_j$ and $s_j$ are the sample mean and sample standard deviation (SD) of predictor $j$ in the training set. We emphasize that the mean and SD values used for standardization must be estimated using only the training set observations, while the transform is applied to both the training and test sets. \n",
    "** Why shouldn't we include the test set observations in computing the mean and SD? **\n",
    "\n",
    "- Provide a table of the summary statistics of the new attributes (`pd.describe()' function will help).\n",
    "\n",
    "*Hint:* You may use the `pd.get_dummies` function to convert a categorical attribute in a data frame to one-hot encoding. This function creates $K$ binary columns for an attribute with $K$ categories. We suggest that you delete the last (or first) binary column generated by this function.\n",
    "\n",
    "**Note:** We shall use the term \"attribute\" to refer to a categorical column in the data set, and the term \"predictor\" to refer to the individual binary columns resulting out of one-hot encoding."
   ]
  },
  {
   "cell_type": "code",
   "execution_count": 156,
   "metadata": {},
   "outputs": [
    {
     "data": {
      "text/html": [
       "<div>\n",
       "<style>\n",
       "    .dataframe thead tr:only-child th {\n",
       "        text-align: right;\n",
       "    }\n",
       "\n",
       "    .dataframe thead th {\n",
       "        text-align: left;\n",
       "    }\n",
       "\n",
       "    .dataframe tbody tr th {\n",
       "        vertical-align: top;\n",
       "    }\n",
       "</style>\n",
       "<table border=\"1\" class=\"dataframe\">\n",
       "  <thead>\n",
       "    <tr style=\"text-align: right;\">\n",
       "      <th></th>\n",
       "      <th>season</th>\n",
       "      <th>month</th>\n",
       "      <th>holiday</th>\n",
       "      <th>day_of_week</th>\n",
       "      <th>workingday</th>\n",
       "      <th>weather</th>\n",
       "      <th>temp</th>\n",
       "      <th>atemp</th>\n",
       "      <th>humidity</th>\n",
       "      <th>windspeed</th>\n",
       "      <th>rentals</th>\n",
       "    </tr>\n",
       "  </thead>\n",
       "  <tbody>\n",
       "    <tr>\n",
       "      <th>0</th>\n",
       "      <td>2</td>\n",
       "      <td>5</td>\n",
       "      <td>0</td>\n",
       "      <td>2</td>\n",
       "      <td>1</td>\n",
       "      <td>2</td>\n",
       "      <td>24</td>\n",
       "      <td>26</td>\n",
       "      <td>76.5833</td>\n",
       "      <td>0.118167</td>\n",
       "      <td>6073.0</td>\n",
       "    </tr>\n",
       "    <tr>\n",
       "      <th>1</th>\n",
       "      <td>4</td>\n",
       "      <td>12</td>\n",
       "      <td>0</td>\n",
       "      <td>2</td>\n",
       "      <td>1</td>\n",
       "      <td>1</td>\n",
       "      <td>15</td>\n",
       "      <td>19</td>\n",
       "      <td>73.3750</td>\n",
       "      <td>0.174129</td>\n",
       "      <td>6606.0</td>\n",
       "    </tr>\n",
       "    <tr>\n",
       "      <th>2</th>\n",
       "      <td>2</td>\n",
       "      <td>6</td>\n",
       "      <td>0</td>\n",
       "      <td>4</td>\n",
       "      <td>1</td>\n",
       "      <td>1</td>\n",
       "      <td>26</td>\n",
       "      <td>28</td>\n",
       "      <td>56.9583</td>\n",
       "      <td>0.253733</td>\n",
       "      <td>7363.0</td>\n",
       "    </tr>\n",
       "    <tr>\n",
       "      <th>3</th>\n",
       "      <td>4</td>\n",
       "      <td>12</td>\n",
       "      <td>0</td>\n",
       "      <td>0</td>\n",
       "      <td>0</td>\n",
       "      <td>1</td>\n",
       "      <td>0</td>\n",
       "      <td>4</td>\n",
       "      <td>58.6250</td>\n",
       "      <td>0.169779</td>\n",
       "      <td>2431.0</td>\n",
       "    </tr>\n",
       "    <tr>\n",
       "      <th>4</th>\n",
       "      <td>3</td>\n",
       "      <td>9</td>\n",
       "      <td>0</td>\n",
       "      <td>3</td>\n",
       "      <td>1</td>\n",
       "      <td>3</td>\n",
       "      <td>23</td>\n",
       "      <td>23</td>\n",
       "      <td>91.7083</td>\n",
       "      <td>0.097021</td>\n",
       "      <td>1996.0</td>\n",
       "    </tr>\n",
       "  </tbody>\n",
       "</table>\n",
       "</div>"
      ],
      "text/plain": [
       "   season  month  holiday  day_of_week  workingday  weather  temp  atemp  \\\n",
       "0       2      5        0            2           1        2    24     26   \n",
       "1       4     12        0            2           1        1    15     19   \n",
       "2       2      6        0            4           1        1    26     28   \n",
       "3       4     12        0            0           0        1     0      4   \n",
       "4       3      9        0            3           1        3    23     23   \n",
       "\n",
       "   humidity  windspeed  rentals  \n",
       "0   76.5833   0.118167   6073.0  \n",
       "1   73.3750   0.174129   6606.0  \n",
       "2   56.9583   0.253733   7363.0  \n",
       "3   58.6250   0.169779   2431.0  \n",
       "4   91.7083   0.097021   1996.0  "
      ]
     },
     "execution_count": 156,
     "metadata": {},
     "output_type": "execute_result"
    }
   ],
   "source": [
    "train.head()"
   ]
  },
  {
   "cell_type": "code",
   "execution_count": 182,
   "metadata": {},
   "outputs": [
    {
     "data": {
      "text/plain": [
       "{1: 'day_of_week1',\n",
       " 2: 'day_of_week2',\n",
       " 3: 'day_of_week3',\n",
       " 4: 'day_of_week4',\n",
       " 5: 'day_of_week5',\n",
       " 6: 'day_of_week6'}"
      ]
     },
     "execution_count": 182,
     "metadata": {},
     "output_type": "execute_result"
    }
   ],
   "source": [
    " dict((key, 'day_of_week'+str(key)) for key in range(1,7))"
   ]
  },
  {
   "cell_type": "code",
   "execution_count": 186,
   "metadata": {},
   "outputs": [
    {
     "data": {
      "text/plain": [
       "array([2, 1, 3], dtype=int64)"
      ]
     },
     "execution_count": 186,
     "metadata": {},
     "output_type": "execute_result"
    }
   ],
   "source": [
    "train.weather.unique()"
   ]
  },
  {
   "cell_type": "code",
   "execution_count": 192,
   "metadata": {
    "collapsed": true
   },
   "outputs": [],
   "source": [
    "# your code here\n",
    "#one_hot_encoding\n",
    "season_dummies = pd.get_dummies(train.season, drop_first=True).rename(columns={2:\"season_summer\",3:\"season_fall\",4:\"season_winter\"})\n",
    "train = pd.concat([train.drop(\"season\",axis = 1),season_dummies], axis = 1)\n",
    "day_of_week_dummies = pd.get_dummies(train.day_of_week, drop_first=True).rename(columns = dict((i, 'day_of_week'+str(i)) for i in range(1,7)))\n",
    "train = pd.concat([train.drop(\"day_of_week\",axis = 1),day_of_week_dummies], axis = 1)\n",
    "weather_dummies = pd.get_dummies(train.weather, drop_first=True).rename(columns = dict((i, 'weather_'+str(i)) for i in [2,3]))\n",
    "train = pd.concat([train.drop(\"weather\",axis = 1),weather_dummies], axis = 1)\n",
    "#我认为月份的数组表示了一定的日期的信息，故不将其进行独热编码"
   ]
  },
  {
   "cell_type": "code",
   "execution_count": 202,
   "metadata": {
    "collapsed": true
   },
   "outputs": [],
   "source": [
    "#test data\n",
    "season_dummies = pd.get_dummies(test.season, drop_first=True).rename(columns={2:\"season_summer\",3:\"season_fall\",4:\"season_winter\"})\n",
    "test = pd.concat([test.drop(\"season\",axis = 1),season_dummies], axis = 1)\n",
    "day_of_week_dummies = pd.get_dummies(test.day_of_week, drop_first=True).rename(columns = dict((i, 'day_of_week'+str(i)) for i in range(1,7)))\n",
    "test = pd.concat([test.drop(\"day_of_week\",axis = 1),day_of_week_dummies], axis = 1)\n",
    "weather_dummies = pd.get_dummies(test.weather, drop_first=True).rename(columns = dict((i, 'weather_'+str(i)) for i in [2,3]))\n",
    "test = pd.concat([test.drop(\"weather\",axis = 1),weather_dummies], axis = 1)"
   ]
  },
  {
   "cell_type": "markdown",
   "metadata": {},
   "source": [
    "normalization with $\\hat{x}_{ij} = (x_{ij} - \\bar{x}_j) / s_j$"
   ]
  },
  {
   "cell_type": "code",
   "execution_count": 198,
   "metadata": {
    "collapsed": true
   },
   "outputs": [],
   "source": [
    "train.temp = [(i-train.temp.mean())/train.temp.std() for i in train.temp]\n",
    "train.atemp = [(i-train.atemp.mean())/train.atemp.std() for i in train.atemp]\n",
    "train.humidity = [(i-train.humidity.mean())/train.humidity.std() for i in train.humidity]\n",
    "train.windspeed = [(i-train.windspeed.mean())/train.windspeed.std() for i in train.windspeed]"
   ]
  },
  {
   "cell_type": "code",
   "execution_count": 203,
   "metadata": {
    "collapsed": true
   },
   "outputs": [],
   "source": [
    "#test data\n",
    "test.temp = [(i-test.temp.mean())/test.temp.std() for i in test.temp]\n",
    "test.atemp = [(i-test.atemp.mean())/test.atemp.std() for i in test.atemp]\n",
    "test.humidity = [(i-test.humidity.mean())/test.humidity.std() for i in test.humidity]\n",
    "test.windspeed = [(i-test.windspeed.mean())/test.windspeed.std() for i in test.windspeed]"
   ]
  },
  {
   "cell_type": "markdown",
   "metadata": {},
   "source": [
    "your answers here"
   ]
  },
  {
   "cell_type": "markdown",
   "metadata": {},
   "source": [
    "-  Why can't they be directly used as predictors?  \n",
    "因为种类特征中的数值表示的是分类，其数值的大小或运算关系不代表特征本来的关系，而模型处理数值特征时又会认为数值本身是有特性的（如大小），我们需要模型关注与特征本身所处类别的特性，因此不能直接将分类特征直接用数值传入模型。  \n",
    "-  Why is it okay to not have a binary column for the $K_j$ -th category?  \n",
    "只需另其余j-1个分类为零便可表示该特征了，多余的特征会对模型造成干扰也无存在的必要，故可以舍去。  \n",
    "-  Why shouldn't we include the test set observations in computing the mean and SD?\n",
    "如果包含了测试集，这会导致模型接触到一些属于测试集的信息。而在训练模型时，模型接触到测试集的信息时严格禁止的行为，这会造成模型的作弊（cheating），即模型得分的优秀不是因为其本身，而是因为它提前接触到了测试集的信息有针对地对其进行了训练。"
   ]
  },
  {
   "cell_type": "markdown",
   "metadata": {},
   "source": [
    "## Part (b): Multiple Linear Regression\n",
    "\n",
    "We are now ready to fit a linear regression model and analyze its coefficients and residuals.\n",
    "\n",
    "- Fit a multiple linear regression model to the training set, and report its $R^2$ score on the test set.\n",
    "- *Statistical significance*: Using a t-test, find out which of estimated coefficients are statistically significant at a significance level of 5% (p-value<0.05). Based on the results of the test, answer the following questions:\n",
    "    - Which among the predictors have a positive correlation with the number of bike rentals? \n",
    "    - Does the day of a week have a relationship with bike rentals? \n",
    "    - Does the month influence the bike rentals? \n",
    "    - What effect does a holiday have on  bike rentals? \n",
    "    - Is there a difference in the coefficients assigned to `temp` and `atemp`? Give an explanation for your observation.\n",
    "- *Residual plot:* Make a plot of residuals of the fitted model ${e} = y - \\hat{y}$ as a function of the predicted value $\\hat{y}$. Note that this is different from the residual plot for simple linear regression. Draw a horizontal line denoting the zero residual value on the Y-axis. Does the plot reveal a non-linear relationship between the predictors and response? What does the plot convey about the variance of the error terms?\n"
   ]
  },
  {
   "cell_type": "code",
   "execution_count": 247,
   "metadata": {},
   "outputs": [
    {
     "name": "stdout",
     "output_type": "stream",
     "text": [
      "R_2 score are: 0.279231\n"
     ]
    }
   ],
   "source": [
    "# your code here\n",
    "y = train.rentals\n",
    "x = train.drop('rentals', axis = 1)\n",
    "x = sm.add_constant(x)\n",
    "model = sm.OLS(y,x)\n",
    "results = model.fit()\n",
    "# predict test data\n",
    "test_y = test.rentals\n",
    "test_x = test.drop('rentals', axis = 1)\n",
    "test_x = sm.add_constant(test_x)\n",
    "pred_y = results.predict(test_x)\n",
    "#report R_2 score\n",
    "print(\"R_2 score are: %f\" %r2_score(test_y,pred_y))"
   ]
  },
  {
   "cell_type": "markdown",
   "metadata": {},
   "source": [
    "your answers here"
   ]
  },
  {
   "cell_type": "code",
   "execution_count": 248,
   "metadata": {},
   "outputs": [
    {
     "data": {
      "text/plain": [
       "const            5.055646e-24\n",
       "month            7.992315e-01\n",
       "holiday          8.268967e-01\n",
       "workingday       5.448814e-02\n",
       "temp             1.812278e-01\n",
       "atemp            3.746331e-01\n",
       "humidity         2.560439e-04\n",
       "windspeed        5.419770e-03\n",
       "season_summer    2.421725e-04\n",
       "season_fall      4.476238e-02\n",
       "season_winter    1.154830e-04\n",
       "day_of_week1     2.629319e-01\n",
       "day_of_week2     6.155595e-01\n",
       "day_of_week3     1.621761e-01\n",
       "day_of_week4     7.470248e-01\n",
       "day_of_week5     4.208107e-01\n",
       "day_of_week6     6.178794e-02\n",
       "weather_2        3.873111e-01\n",
       "weather_3        2.152870e-04\n",
       "dtype: float64"
      ]
     },
     "execution_count": 248,
     "metadata": {},
     "output_type": "execute_result"
    }
   ],
   "source": [
    "results.pvalues"
   ]
  },
  {
   "cell_type": "markdown",
   "metadata": {},
   "source": [
    "- Which among the predictors have a positive correlation with the number of bike rentals?  \n",
    "要求选取的显著水平为0.05(5e-02)，各个自变量的p值情况如上，因此与bike rentals有显著线性关系的predictors有：  \n",
    "const(此处为截距), humidity,windspeed, 各个季节(seaons), weather_3(原始数据中wether值为3的)  "
   ]
  },
  {
   "cell_type": "markdown",
   "metadata": {},
   "source": [
    "- Does the day of a week have a relationship with bike rentals?  \n",
    "其p值皆大于0.05，因此不能认为day of a week 与bike rentals有显著线性关系。"
   ]
  },
  {
   "cell_type": "markdown",
   "metadata": {},
   "source": [
    "- Does the month influence the bike rentals?  \n",
    "其p值大于0.05，因此不能认为month 影响了bike rentals。"
   ]
  },
  {
   "cell_type": "markdown",
   "metadata": {},
   "source": [
    "- What effect does a holiday have on bike rentals?  \n",
    "其p值大于0.05，因此不能认为holiday 与bike rentals间有显著线性关系。"
   ]
  },
  {
   "cell_type": "markdown",
   "metadata": {},
   "source": [
    "- Is there a difference in the coefficients assigned to temp and atemp? Give an explanation for your observation.  \n",
    "NO, 它们的p值皆大于0.5，认为其都与bike rentals无显著线性关系。"
   ]
  },
  {
   "cell_type": "code",
   "execution_count": 269,
   "metadata": {},
   "outputs": [
    {
     "data": {
      "text/plain": [
       "<matplotlib.legend.Legend at 0x19573faf780>"
      ]
     },
     "execution_count": 269,
     "metadata": {},
     "output_type": "execute_result"
    },
    {
     "data": {
      "image/png": "[encoded data removed]",
      "text/plain": [
       "<matplotlib.figure.Figure at 0x19573f34780>"
      ]
     },
     "metadata": {},
     "output_type": "display_data"
    }
   ],
   "source": [
    "pred_y = results.predict(x)\n",
    "errors = y-pred_y\n",
    "errors = dict((pred_y[i], errors[i]) for i in range(len(y)))\n",
    "sorted_pred_y = sorted(errors.keys())\n",
    "sorted_errors = [errors[key] for key in sorted(errors.keys())]\n",
    "plt.figure(figsize=(8,6))\n",
    "plt.scatter(sorted_pred_y, sorted_errors, color = 'blue', alpha = 0.1, label = 'residuals')\n",
    "plt.axhline(y=0, color='gold',label='zero residual')\n",
    "plt.title('Predicted values VS Residual')\n",
    "plt.xlabel('predicted value y-')\n",
    "plt.ylabel('residual')\n",
    "plt.legend()"
   ]
  },
  {
   "cell_type": "markdown",
   "metadata": {},
   "source": [
    "- Does the plot reveal a non-linear relationship between the predictors and response?   \n",
    "YES, 图像显示出残差与预测值$\\hat{y}$间没有线性关系。  \n",
    "- What does the plot convey about the variance of the error terms?  \n",
    "图像显示出预测值与真实值之间的误差分布比较平衡，但其误差的数值仍十分巨大，模型拟合效果不太令人满意。"
   ]
  },
  {
   "cell_type": "markdown",
   "metadata": {},
   "source": [
    "## Part (c): Checking Collinearity\n",
    "\n",
    "Does the data suffer from multi-collinearity? To answer this question, let us first analyze the correlation matrix for the data. Compute the (Pearson product-moment) correlation matrix for the predictor variables in the training set, and visualize the matrix using a heatmap. For categorical attributes, you should use each binary predictor resulting from one-hot encoding to compute their correlations.  Are there predictors that fall into natural groups based on the correlation values? \n",
    "\n",
    "*Hint:* You may use the `np.corrcoef` function to compute the correlation matrix for a data set (do not forget to transpose the data matrix). You may use `plt.pcolor` function to visualize the correlation matrix."
   ]
  },
  {
   "cell_type": "code",
   "execution_count": 281,
   "metadata": {},
   "outputs": [
    {
     "data": {
      "text/plain": [
       "<matplotlib.axes._subplots.AxesSubplot at 0x195743b8898>"
      ]
     },
     "execution_count": 281,
     "metadata": {},
     "output_type": "execute_result"
    },
    {
     "data": {
      "image/png": "[encoded data removed]",
      "text/plain": [
       "<matplotlib.figure.Figure at 0x195743b4278>"
      ]
     },
     "metadata": {},
     "output_type": "display_data"
    }
   ],
   "source": [
    "# your code here\n",
    "import seaborn as sns\n",
    "plt.figure(figsize=(8,6))\n",
    "sns.heatmap(train.corr(),linewidths=1, cmap='Blues')"
   ]
  },
  {
   "cell_type": "markdown",
   "metadata": {},
   "source": [
    "your answers here"
   ]
  },
  {
   "cell_type": "markdown",
   "metadata": {},
   "source": [
    "-  Are there predictors that fall into natural groups based on the correlation values?  \n",
    "(temp,atemp)可以认为是一组、(season_fall,temp,atemp)可以认为是一组、(month,season_winter)可以认为是一组、(humidity,weather_2)可以认为是一组。"
   ]
  },
  {
   "cell_type": "markdown",
   "metadata": {},
   "source": [
    "## Part (d): Subset Selection\n",
    "\n",
    "Apply either one of the following subset selection methods discussed in class to choose a minimal subset of predictors that are related to the response variable:\n",
    "- Step-wise forward selection\n",
    "- Step-wise backward selection\n",
    "\n",
    "We require you to implement both these methods *from scratch*. You may use the Bayesian Information Criterion (BIC) to choose the subset size in each method. Do these methods eliminate one or more of the redundant predictors (if any) identified in Part (c)? In each case, fit linear regression models using the identified subset of predictors to the training set. How do the test $R^2$ scores for the fitted models compare with the model fitted in Part (b) using all predictors?\n",
    "\n",
    "\n"
   ]
  },
  {
   "cell_type": "code",
   "execution_count": 421,
   "metadata": {},
   "outputs": [
    {
     "name": "stdout",
     "output_type": "stream",
     "text": [
      "season_winter\n",
      "weather_3\n",
      "season_summer\n",
      "humidity\n",
      "R_2 score are: 0.239476\n"
     ]
    }
   ],
   "source": [
    "# your code here\n",
    "#Step-wise backward selection\n",
    "y = train.rentals\n",
    "x = train.drop('rentals', axis = 1)\n",
    "x = sm.add_constant(x)\n",
    "model = sm.OLS(y,x)\n",
    "features = list(train.drop('rentals',axis=1).columns)\n",
    "for i in range(4):\n",
    "    #choose feature to delet\n",
    "    feature_score = {} #form: {feature: the score of model without the feature}\n",
    "    for feature in features:\n",
    "        new_features = features[:] #不想改动features的元素\n",
    "        new_features.remove(feature)\n",
    "        tem_x = x.drop(feature, axis = 1)\n",
    "        tem_results = sm.OLS(y,tem_x).fit()\n",
    "        feature_score[feature] = tem_results.bic\n",
    "    #delet feature\n",
    "    values = list(feature_score.values())\n",
    "    keys = list(feature_score.keys())\n",
    "    features.remove(keys[values.index(max(values))])\n",
    "    print(keys[values.index(max(values))]) #所删除的元素    \n",
    "#得到最终模型\n",
    "train_x = x[features]\n",
    "train_x = sm.add_constant(train_x)\n",
    "model_results = sm.OLS(y,train_x).fit()\n",
    "#report R_2 score\n",
    "test_y = test.rentals\n",
    "test_x = test[features]\n",
    "test_x = sm.add_constant(test_x)\n",
    "pred_y = model_results.predict(test_x)\n",
    "print(\"R_2 score are: %f\" %r2_score(test_y,pred_y))"
   ]
  },
  {
   "cell_type": "markdown",
   "metadata": {},
   "source": [
    "your answers here"
   ]
  },
  {
   "cell_type": "markdown",
   "metadata": {},
   "source": [
    "- Do these methods eliminate one or more of the redundant predictors (if any) identified in Part (c)?  \n",
    "消除了我part(c)中列举的多余元素season_winter与humidity。  \n",
    "-  How do the test $R^2$ scores for the fitted models compare with the model fitted in Part (b) using all predictors?  \n",
    "得分反而发生了下降"
   ]
  },
  {
   "cell_type": "markdown",
   "metadata": {},
   "source": [
    "### 做个Lasso回归玩玩"
   ]
  },
  {
   "cell_type": "code",
   "execution_count": 386,
   "metadata": {},
   "outputs": [
    {
     "name": "stdout",
     "output_type": "stream",
     "text": [
      "The model delet predictor: day_of_week4\n",
      "R_2 score in test set are: 0.279441\n"
     ]
    }
   ],
   "source": [
    "clf = Lasso(alpha = 0.1)\n",
    "features = list(train.drop('rentals',axis=1).columns)\n",
    "y = train.rentals\n",
    "x = train[features]\n",
    "clf.fit(x, y)\n",
    "print(\"The model delet predictor: %s\" %features[list(clf.coef_).index(0)])\n",
    "#report R_2 score\n",
    "test_y = test.rentals\n",
    "test_x = test[features]\n",
    "pred_y = clf.predict(test_x)\n",
    "print(\"R_2 score in test set are: %f\" %r2_score(test_y,pred_y))"
   ]
  },
  {
   "cell_type": "markdown",
   "metadata": {},
   "source": [
    "## Part (e): Cross Validation\n",
    "\n",
    "- Perform a 10-fold cross-validation procedure to select between the 3 competing models you have so far: the model with the best BIC from Step-wise forward selection, the model with the best BIC from Step-wise backward selection (if it is different), and the model with all possible predictors.  Report the average $R^2$ across all 10 validation sets for each model and compare the results.  Why do you think this is the case?\n",
    "- Evaluate each of the 3 models on the provided left out test set by calculating $R^2$.  Do the results agree with the cross-validation?  Why or why not?"
   ]
  },
  {
   "cell_type": "code",
   "execution_count": 447,
   "metadata": {
    "collapsed": true
   },
   "outputs": [],
   "source": [
    "# your code here\n",
    "from sklearn.model_selection import KFold\n",
    "kf = KFold(10, shuffle = True, random_state = 66)\n",
    "new_train = []\n",
    "valid = []\n",
    "for train_index, valid_index in kf.split(train):\n",
    "    new_train.append(train.loc[train_index])\n",
    "    valid.append(train.loc[valid_index])\n"
   ]
  },
  {
   "cell_type": "code",
   "execution_count": 470,
   "metadata": {},
   "outputs": [
    {
     "name": "stdout",
     "output_type": "stream",
     "text": [
      "删除的元素有： ['temp']\n",
      "The mean R_2 score in valid set are: 0.485937\n",
      "R_2 score in test set are: 0.273226\n"
     ]
    }
   ],
   "source": [
    "#Step-wise forward selection\n",
    "r2_scores = []\n",
    "for fold in range(10):\n",
    "    y = new_train[fold].rentals\n",
    "    x = new_train[fold].drop('rentals', axis = 1)\n",
    "    all_features = list(train.drop('rentals',axis=1).columns)\n",
    "    features = []\n",
    "    for i in range(len(all_features)-1):\n",
    "        #choose feature to add\n",
    "        feature_score = {} #form: {feature: the score of model without the feature}\n",
    "        for feature in [feature for feature in all_features if feature not in features]:\n",
    "            new_features = features[:] #不想改动features的元素\n",
    "            new_features.append(feature)\n",
    "            tem_x = x[new_features]\n",
    "            tem_x = sm.add_constant(tem_x)\n",
    "            tem_results = sm.OLS(y,tem_x).fit()\n",
    "            feature_score[feature] = tem_results.bic\n",
    "        #delet feature\n",
    "        values = list(feature_score.values())\n",
    "        keys = list(feature_score.keys())\n",
    "        features.append(keys[values.index(max(values))])\n",
    "    #得到最终模型\n",
    "    train_x = x[features]\n",
    "    train_x = sm.add_constant(train_x)\n",
    "    model_results = sm.OLS(y,train_x).fit()\n",
    "    #report R_2 score\n",
    "    valid_y = valid[fold].rentals\n",
    "    valid_x = valid[fold][features]\n",
    "    valid_x = sm.add_constant(valid_x)\n",
    "    pred_y = model_results.predict(valid_x)\n",
    "    r2_scores.append(r2_score(valid_y,pred_y))\n",
    "    \n",
    "print(\"删除的元素有： %s\" %str([feature for feature in all_features if feature not in features]))\n",
    "print(\"The mean R_2 score in valid set are: %f\" %np.mean(r2_scores))\n",
    "test_y = test.rentals\n",
    "test_x = test[features]\n",
    "test_x = sm.add_constant(test_x)\n",
    "pred_y = model_results.predict(test_x)\n",
    "print(\"R_2 score in test set are: %f\" %r2_score(test_y,pred_y))"
   ]
  },
  {
   "cell_type": "code",
   "execution_count": 474,
   "metadata": {},
   "outputs": [
    {
     "name": "stdout",
     "output_type": "stream",
     "text": [
      "删除的元素有： {'weather_3', 'season_summer', 'season_winter', 'humidity'}\n",
      "The mean R_2 score in valid set are: 0.426862\n",
      "R_2 score in test set are: 0.248096\n"
     ]
    }
   ],
   "source": [
    "# Step-wise backward selection(same as upon)\n",
    "r2_scores = []\n",
    "remove_features = []\n",
    "for fold in range(10):\n",
    "    y = new_train[fold].rentals\n",
    "    x = new_train[fold].drop('rentals', axis = 1)\n",
    "    x = sm.add_constant(x)\n",
    "    model = sm.OLS(y,x)\n",
    "    features = list(train.drop('rentals',axis=1).columns)\n",
    "    for i in range(1):\n",
    "        #choose feature to delet\n",
    "        feature_score = {} #form: {feature: the score of model without the feature}\n",
    "        for feature in features:\n",
    "            new_features = features[:] #不想改动features的元素\n",
    "            new_features.remove(feature)\n",
    "            tem_x = x.drop(feature, axis = 1)\n",
    "            tem_results = sm.OLS(y,tem_x).fit()\n",
    "            feature_score[feature] = tem_results.bic\n",
    "        #delet feature\n",
    "        values = list(feature_score.values())\n",
    "        keys = list(feature_score.keys())\n",
    "        features.remove(keys[values.index(max(values))])\n",
    "        remove_features.append(keys[values.index(max(values))])\n",
    "    #得到最终模型\n",
    "    train_x = x[features]\n",
    "    train_x = sm.add_constant(train_x)\n",
    "    model_results = sm.OLS(y,train_x).fit()\n",
    "    #report R_2 score\n",
    "    valid_y = valid[fold].rentals\n",
    "    valid_x = valid[fold][features]\n",
    "    valid_x = sm.add_constant(valid_x)\n",
    "    pred_y = model_results.predict(valid_x)\n",
    "    r2_scores.append(r2_score(valid_y,pred_y)) \n",
    "print(\"删除的元素有： %s\" %str(set(remove_features))) #所删除的元素   \n",
    "print(\"The mean R_2 score in valid set are: %f\" %np.mean(r2_scores))\n",
    "test_y = test.rentals\n",
    "test_x = test[features]\n",
    "test_x = sm.add_constant(test_x)\n",
    "pred_y = model_results.predict(test_x)\n",
    "print(\"R_2 score in test set are: %f\" %r2_score(test_y,pred_y))"
   ]
  },
  {
   "cell_type": "code",
   "execution_count": 467,
   "metadata": {},
   "outputs": [
    {
     "name": "stdout",
     "output_type": "stream",
     "text": [
      "The mean R_2 score in valid set are: 0.413435\n",
      "R_2 score in test set are: 0.275957\n"
     ]
    }
   ],
   "source": [
    "#  model with all possible predictors\n",
    "r2_scores = []\n",
    "for fold in range(10):\n",
    "    y = new_train[fold].rentals\n",
    "    x = new_train[fold].drop('rentals', axis = 1)\n",
    "    x = sm.add_constant(x)\n",
    "    model = sm.OLS(y,x)\n",
    "    results = model.fit()\n",
    "    # predict test data\n",
    "    valid_y = valid[fold].rentals\n",
    "    valid_x = valid[fold].drop('rentals', axis = 1)\n",
    "    valid_x = sm.add_constant(valid_x)\n",
    "    pred_y = results.predict(valid_x)\n",
    "    r2_scores.append(r2_score(valid_y,pred_y))\n",
    "#report R_2 score\n",
    "print(\"The mean R_2 score in valid set are: %f\" %np.mean(r2_scores))\n",
    "test_y = test.rentals\n",
    "test_x = test.drop('rentals', axis = 1)\n",
    "test_x = sm.add_constant(test_x)\n",
    "pred_y = results.predict(test_x)\n",
    "print(\"R_2 score in test set are: %f\" %r2_score(test_y,pred_y))"
   ]
  },
  {
   "cell_type": "markdown",
   "metadata": {},
   "source": [
    "your answers here"
   ]
  },
  {
   "cell_type": "markdown",
   "metadata": {
    "collapsed": true
   },
   "source": [
    " - Report the average $R^2$ across all 10 validation sets for each model and compare the results. Why do you think this is the case?  \n",
    "结合上边我使用的Lasso回归，可以看出删除一个predictor是最好的，因此在这个部分我都只去除了一个变量。可以看出，在KFold的验证集平均得分中，Step-wise backward selection最高，Step-wise backward selection次之，而model with all possible predictors最低，可以看出去除不必要的自变量会提升模型的预测能力。\n",
    "\n",
    "- Evaluate each of the 3 models on the provided left out test set by calculating $R^2$.  Do the results agree with the cross-validation?  Why or why not?  \n",
    "在测试集的得分上，前两个排名不变，但model with all possible predictors的得分变为了最高。这体现了cross-validation的局限性，可以看出各个模型在测试集上的得分均出现了巨大的下滑，可以看出在面对训练集与测试集相差较大的情况时，cross-validation对模型的提升是十分有限的。但我还是认同cross-validation的结果，因为实际问题中我们通常认为训练集与测试集之间差距是有限的，而使用cross-validation可以很好的帮助我们避免模型过拟合的情况，提升模型的水平。"
   ]
  }
 ],
 "metadata": {
  "anaconda-cloud": {},
  "kernelspec": {
   "display_name": "Python 3",
   "language": "python",
   "name": "python3"
  },
  "language_info": {
   "codemirror_mode": {
    "name": "ipython",
    "version": 3
   },
   "file_extension": ".py",
   "mimetype": "text/x-python",
   "name": "python",
   "nbconvert_exporter": "python",
   "pygments_lexer": "ipython3",
   "version": "3.5.4"
  }
 },
 "nbformat": 4,
 "nbformat_minor": 1
}
