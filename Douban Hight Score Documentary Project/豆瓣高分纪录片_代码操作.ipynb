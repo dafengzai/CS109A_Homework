{
 "cells": [
  {
   "cell_type": "markdown",
   "metadata": {},
   "source": [
    "# 豆瓣高分纪录片爬取与分析"
   ]
  },
  {
   "cell_type": "code",
   "execution_count": 260,
   "metadata": {
    "collapsed": true
   },
   "outputs": [],
   "source": [
    "#载入所需数据库\n",
    "import requests\n",
    "from bs4 import BeautifulSoup\n",
    "import numpy as np\n",
    "import pandas as pd\n",
    "import seaborn as sns\n",
    "%matplotlib inline"
   ]
  },
  {
   "cell_type": "markdown",
   "metadata": {},
   "source": [
    "## 爬取纪录片排行榜"
   ]
  },
  {
   "cell_type": "markdown",
   "metadata": {},
   "source": [
    "网页来源于豆瓣[纪录片类别按评分排序](https://movie.douban.com/tag/%E7%BA%AA%E5%BD%95%E7%89%87?start=0&type=S)\n",
    "可以看到：  \n",
    "1.每页出现的结果不一样：第一页19条，之后每页20条记录。  \n",
    "2.纪录片列表在名为div，属性class_为空的标签中\n",
    "3.每条记录储存在一个class为空，名为table的标签之中  \n"
   ]
  },
  {
   "cell_type": "code",
   "execution_count": 261,
   "metadata": {
    "collapsed": true
   },
   "outputs": [],
   "source": [
    "def download_webpage(url):\n",
    "    return requests.get(url).content"
   ]
  },
  {
   "cell_type": "code",
   "execution_count": 262,
   "metadata": {
    "collapsed": true
   },
   "outputs": [],
   "source": [
    "movie_name_list = []\n",
    "def parse_page(html):\n",
    "    soup = BeautifulSoup(html, 'html.parser')\n",
    "    movie_list = soup.find_all('div', class_ = \"\")[1]\n",
    "    for movie in movie_list.find_all('table', class_ = \"\"):\n",
    "        if movie.find(class_ = 'rating_nums') == None:  #调BUG的时候发现存在无人评分的纪录片\n",
    "            continue\n",
    "        movie_name_list.append({\"RANK\":len(movie_name_list)+1,\"NAME\":movie.find('a', class_ = \"nbg\").attrs['title'],\n",
    "                               \"RATING\":movie.find(class_ = 'rating_nums').text,\n",
    "                              \"URL\":movie.find('a', class_ = \"nbg\").attrs['href']})\n",
    "        \n",
    "    if soup.find('span', class_ = \"next\").find('link') !=  None: #爬到最后一页\n",
    "        next_url = soup.find('span', class_ = \"next\").find('link').attrs['href']\n",
    "        return next_url\n",
    "    return None\n",
    "    "
   ]
  },
  {
   "cell_type": "code",
   "execution_count": 263,
   "metadata": {
    "collapsed": true
   },
   "outputs": [],
   "source": [
    "#主程序\n",
    "URL = \"https://movie.douban.com/tag/%E7%BA%AA%E5%BD%95%E7%89%87?start=0&type=S\"\n",
    "movie_name_list = []\n",
    "while URL:\n",
    "    URL = parse_page(download_webpage(URL))\n"
   ]
  },
  {
   "cell_type": "markdown",
   "metadata": {
    "collapsed": true
   },
   "source": [
    "## 爬取在榜纪录片的详尽信息"
   ]
  },
  {
   "cell_type": "code",
   "execution_count": 266,
   "metadata": {
    "collapsed": true
   },
   "outputs": [],
   "source": [
    "def movie_parser(movie):\n",
    "    URL = movie['URL']\n",
    "    page = download_webpage(URL)\n",
    "    soup = BeautifulSoup(page, 'html.parser')\n",
    "    movie['NAME'] = soup.find('span',property=\"v:itemreviewed\" ).text\n",
    "    if soup.find('span', class_ = 'year') != None: #还真有页面不标年份的\n",
    "        movie['YEAR'] = int(soup.find('span', class_ = 'year').text[1:-1]) #形如（2XXX）\n",
    "    else:\n",
    "        movie['YEAR'] = 0   \n",
    "    AREA = []  #制片国家/地区的名字居然没有标签？！， 只能硬来了\n",
    "    for i in soup.find('div', id = 'info').text.split('\\n'):\n",
    "        if '制片国家/地区' in i:\n",
    "            for k in i.split(':')[1].split('/'):\n",
    "                AREA.append(k.strip())\n",
    "    movie['AREA'] = AREA\n",
    "    movie['TAGS'] = soup.find('div', class_ = 'tags-body').text.split('\\n')[1:-1]\n",
    "    movie['AUDIENCE'] = int(soup.find('span', property = 'v:votes').text)\n",
    "    return movie"
   ]
  },
  {
   "cell_type": "code",
   "execution_count": 267,
   "metadata": {
    "collapsed": true
   },
   "outputs": [],
   "source": [
    "movie_list = movie_name_list\n",
    "for movie in movie_list:\n",
    "    movie = movie_parser(movie)"
   ]
  },
  {
   "cell_type": "code",
   "execution_count": 269,
   "metadata": {
    "collapsed": true
   },
   "outputs": [],
   "source": [
    "#\n",
    "import pandas as pd\n",
    "df = pd.DataFrame(movie_list)"
   ]
  },
  {
   "cell_type": "code",
   "execution_count": 271,
   "metadata": {
    "collapsed": true
   },
   "outputs": [],
   "source": [
    "df.to_csv('data/豆瓣高分纪录片数据.csv')"
   ]
  },
  {
   "cell_type": "markdown",
   "metadata": {},
   "source": [
    "## TAG探寻"
   ]
  },
  {
   "cell_type": "markdown",
   "metadata": {},
   "source": [
    "每一部纪录片页面都有个标签板块，代表着该纪录片所对应的特点：如自然、历史等。这让我好奇在这些高分的记录片里，标签的分布是怎样的，人们究竟喜欢怎样的纪录片？"
   ]
  },
  {
   "cell_type": "code",
   "execution_count": 1224,
   "metadata": {
    "collapsed": true
   },
   "outputs": [],
   "source": [
    "# GET TAGS \n",
    "#为了更好的统计标签频率，我将标签次数设为SUM(评论人数权重)\n",
    "#权重为: >1000:2, >5000:5, >10000:10\n",
    "TAGS = {}\n",
    "for i in range(df.shape[0]):\n",
    "    for tag in df['TAGS'][i]:\n",
    "        if tag in TAGS.keys():\n",
    "            TAGS[tag] += df['AUDIENCE'][i]\n",
    "        else:\n",
    "            TAGS[tag] = df['AUDIENCE'][i]\n",
    "#因为我们的数据都是记录片，所以删除TAG “纪录片”与“紀錄片”\n",
    "del TAGS['纪录片']\n",
    "del TAGS[ '紀錄片']\n",
    "del TAGS['记录片']\n",
    "del TAGS[ 'Documentary']\n",
    "del TAGS[ 'documentary']\n",
    "#删除年份数据：\n",
    "delyear = []\n",
    "for key in TAGS.keys():\n",
    "    if '20' in key:\n",
    "        delyear.append(key)\n",
    "for year in delyear:\n",
    "    del TAGS[year]\n",
    "#删除国家相关的标签数据\n",
    "del TAGS['中国']\n",
    "del TAGS['中国大陆']\n",
    "del TAGS['大陆']\n",
    "del TAGS['英国']\n",
    "del TAGS['美国']\n",
    "del TAGS['日本']\n",
    "del TAGS['法国']\n",
    "del TAGS['美国电影']\n",
    "del TAGS['法国电影']\n",
    "del TAGS['BBC']\n",
    "del TAGS['国产']\n",
    "del TAGS['CCTV']"
   ]
  },
  {
   "cell_type": "code",
   "execution_count": 1252,
   "metadata": {
    "collapsed": true
   },
   "outputs": [],
   "source": [
    "se = pd.Series(TAGS)\n",
    "se.to_csv('data/标签频率统计.csv')"
   ]
  },
  {
   "cell_type": "code",
   "execution_count": 1253,
   "metadata": {},
   "outputs": [
    {
     "data": {
      "text/plain": [
       "count      1862.000000\n",
       "mean       6098.974758\n",
       "std       26468.961240\n",
       "min         124.000000\n",
       "25%         331.000000\n",
       "50%         761.000000\n",
       "75%        2626.000000\n",
       "max      552797.000000\n",
       "dtype: float64"
      ]
     },
     "execution_count": 1253,
     "metadata": {},
     "output_type": "execute_result"
    }
   ],
   "source": [
    "se.describe()"
   ]
  },
  {
   "cell_type": "markdown",
   "metadata": {},
   "source": [
    "可以看出标签分布不均匀的情况实在是太严重了，上分位数75%也才为2665，与最大值差了2个数量集。"
   ]
  },
  {
   "cell_type": "code",
   "execution_count": 1254,
   "metadata": {},
   "outputs": [
    {
     "data": {
      "text/plain": [
       "<matplotlib.axes._subplots.AxesSubplot at 0x231c804beb8>"
      ]
     },
     "execution_count": 1254,
     "metadata": {},
     "output_type": "execute_result"
    },
    {
     "data": {
      "image/png": "[encoded data removed]",
      "text/plain": [
       "<matplotlib.figure.Figure at 0x231c8025a58>"
      ]
     },
     "metadata": {},
     "output_type": "display_data"
    }
   ],
   "source": [
    "se.plot(kind = 'box')"
   ]
  },
  {
   "cell_type": "code",
   "execution_count": 1229,
   "metadata": {
    "collapsed": true
   },
   "outputs": [],
   "source": [
    "#从上面的分析可以看出，标签的样本空间为1800+，是样本的近2倍，且标签出现的次数分布相差巨大。为了防止维度过大的影响与专注于常用的标签，\n",
    "#我本次只取标签出现次数大于50,000的标签,将出现次数与最高次数控制在一个数量级内，我将这些标签称为“热门标签”\n",
    "se = se[se.values>50000]"
   ]
  },
  {
   "cell_type": "code",
   "execution_count": 1230,
   "metadata": {
    "collapsed": true
   },
   "outputs": [],
   "source": [
    "#将TAG数据写入DataFrame\n",
    "for movie in movie_list:\n",
    "    for tag in movie['TAGS']:\n",
    "        if tag in se.index:\n",
    "            movie[tag+'_judge'] = 1\n",
    "    del movie['TAGS']"
   ]
  },
  {
   "cell_type": "code",
   "execution_count": 1231,
   "metadata": {
    "collapsed": true
   },
   "outputs": [],
   "source": [
    "tagdf = pd.DataFrame(movie_list).fillna(0)"
   ]
  },
  {
   "cell_type": "code",
   "execution_count": 1232,
   "metadata": {
    "collapsed": true,
    "scrolled": true
   },
   "outputs": [],
   "source": [
    "tagdf = tagdf.drop(['AREA','YEAR', 'URL','RATING','RANK','AUDIENCE'], axis = 1) #此次分析只关注与代表影片特征的标签，因此将YEAR、AREA与无关特征一并删除"
   ]
  },
  {
   "cell_type": "code",
   "execution_count": 1233,
   "metadata": {
    "collapsed": true
   },
   "outputs": [],
   "source": [
    "tagdf = tagdf.set_index('NAME')"
   ]
  },
  {
   "cell_type": "code",
   "execution_count": 1255,
   "metadata": {},
   "outputs": [
    {
     "data": {
      "text/plain": [
       "Index(['二战_judge', '人性_judge', '人文_judge', '人生_judge', '传承_judge', '传记_judge',\n",
       "       '动物_judge', '励志_judge', '博物馆_judge', '历史_judge', '吃货_judge',\n",
       "       '国家地理_judge', '地球村_judge', '央视_judge', '寿司_judge', '平常生活_judge',\n",
       "       '慰安妇_judge', '成长_judge', '我在故宫修文物_judge', '战争_judge', '探索_judge',\n",
       "       '政治_judge', '故宫_judge', '文化_judge', '文物_judge', '旅行_judge', '残酷_judge',\n",
       "       '每个人_judge', '海洋_judge', '温情_judge', '环保_judge', '生活_judge', '社会_judge',\n",
       "       '科普_judge', '纪实_judge', '纪录_judge', '纪录片cctv9_judge', '经典_judge',\n",
       "       '综艺_judge', '美食_judge', '自然_judge', '艺术_judge', '英国电影_judge',\n",
       "       '雅克·贝汉_judge', '震撼_judge'],\n",
       "      dtype='object')"
      ]
     },
     "execution_count": 1255,
     "metadata": {},
     "output_type": "execute_result"
    }
   ],
   "source": [
    "tagdf.columns"
   ]
  },
  {
   "cell_type": "code",
   "execution_count": 1261,
   "metadata": {},
   "outputs": [
    {
     "data": {
      "image/png": "[encoded data removed]",
      "text/plain": [
       "<matplotlib.figure.Figure at 0x231d0fda588>"
      ]
     },
     "metadata": {},
     "output_type": "display_data"
    }
   ],
   "source": [
    "sns.heatmap(tagdf)"
   ]
  },
  {
   "cell_type": "markdown",
   "metadata": {},
   "source": [
    "通过上图可以看到，即便我选取的已经是“热门标签”了，但上图仍十分的“稀疏”（0代表着该影片不含此标签），除了一些及其热门的标签（某一列许多白色，代表着影片有该标签）。下面对标签数据进行聚类分析，探究豆瓣用户喜欢的高分纪录片都是哪些种类的。"
   ]
  },
  {
   "cell_type": "markdown",
   "metadata": {},
   "source": [
    "## 降维"
   ]
  },
  {
   "cell_type": "code",
   "execution_count": 1276,
   "metadata": {},
   "outputs": [
    {
     "data": {
      "text/plain": [
       "0.94837611884888195"
      ]
     },
     "execution_count": 1276,
     "metadata": {},
     "output_type": "execute_result"
    }
   ],
   "source": [
    "# 降维，从上图中可以看出标签数据在全部900多个影片中分布十分稀疏，因此对这些数据进行降维操作以便后续进行分析\n",
    "from sklearn.decomposition import PCA\n",
    "pca = PCA(n_components=26)\n",
    "pcadf = pca.fit_transform(tagdf)\n",
    "np.sum(pca.explained_variance_ratio_) "
   ]
  },
  {
   "cell_type": "markdown",
   "metadata": {},
   "source": [
    "这些主成分的累计贡献率约为0.95，可以进行使用"
   ]
  },
  {
   "cell_type": "markdown",
   "metadata": {},
   "source": [
    "## 对数据进行聚类操作"
   ]
  },
  {
   "cell_type": "markdown",
   "metadata": {},
   "source": [
    "下面采用聚类方法将高分纪录片分类，采用K均值算法进行分类。"
   ]
  },
  {
   "cell_type": "code",
   "execution_count": 1277,
   "metadata": {},
   "outputs": [
    {
     "name": "stdout",
     "output_type": "stream",
     "text": [
      "0.305551476701\n",
      "0.335171381411\n",
      "0.356277271362\n",
      "0.363600336851\n",
      "0.40536177537\n",
      "0.403083443333\n",
      "0.434853941564\n",
      "0.442456830275\n"
     ]
    }
   ],
   "source": [
    "#确定最优的分类类别数，采用轮廓系数进行判别，轮廓系数取值为[-1, 1]，越接近1说明类别中的样本越近似\n",
    "from sklearn.cluster import KMeans\n",
    "for i in np.arange(2,10):\n",
    "    kmeans = KMeans(n_clusters=i, random_state=66).fit(pcadf)\n",
    "    preds = kmeans.predict(pcadf)\n",
    "    from sklearn.metrics import silhouette_score\n",
    "    score = silhouette_score(test, preds)\n",
    "    print(score)"
   ]
  },
  {
   "cell_type": "markdown",
   "metadata": {},
   "source": [
    "可以看出当分类数n_clusters = 6后，总的轮廓系数达到了0.4，并在之后随分类数的提升总的轮廓系数的得分提高不大，因此决定分出6个类别。"
   ]
  },
  {
   "cell_type": "code",
   "execution_count": 1280,
   "metadata": {
    "collapsed": true
   },
   "outputs": [],
   "source": [
    "from sklearn.cluster import KMeans\n",
    "kmeans = KMeans(n_clusters=6, random_state=66).fit(pcadf)\n",
    "#对各个样本进行预测\n",
    "preds = kmeans.predict(pcadf)\n",
    "# T找到各个聚类的中心\n",
    "centers = kmeans.cluster_centers_"
   ]
  },
  {
   "cell_type": "code",
   "execution_count": 1281,
   "metadata": {},
   "outputs": [
    {
     "name": "stdout",
     "output_type": "stream",
     "text": [
      "The rate of centers0 is 0.562436:\n",
      "The rate of centers1 is 0.123839:\n",
      "The rate of centers2 is 0.092879:\n",
      "The rate of centers3 is 0.098039:\n",
      "The rate of centers4 is 0.043344:\n",
      "The rate of centers5 is 0.079463:\n"
     ]
    }
   ],
   "source": [
    "#首先查看各个聚类的样本占总样本的比重。\n",
    "for i in range(6):\n",
    "    counter = 0\n",
    "    for k in preds:\n",
    "        if k==i:\n",
    "            counter += 1\n",
    "    print('The rate of centers%d is %f:'  %(i,counter/len(preds)))"
   ]
  },
  {
   "cell_type": "markdown",
   "metadata": {},
   "source": [
    "可以看出centers0类的纪录片占据了半壁江山，而其他类别的纪录片分布较为均匀，都在10%左右。"
   ]
  },
  {
   "cell_type": "code",
   "execution_count": 1282,
   "metadata": {},
   "outputs": [
    {
     "name": "stdout",
     "output_type": "stream",
     "text": [
      "centers 0:\n",
      "艺术_judge 0.062371313707\n",
      "旅行_judge 0.0605520180789\n",
      "纪实_judge 0.0459461233317\n",
      "centers 1:\n",
      "历史_judge 0.999960736637\n",
      "战争_judge 0.158673206156\n",
      "二战_judge 0.116332577013\n",
      "centers 2:\n",
      "自然_judge 1.00019328141\n",
      "海洋_judge 0.121859882458\n",
      "环保_judge 0.111160689416\n",
      "centers 3:\n",
      "动物_judge 0.999949128934\n",
      "自然_judge 0.65264323409\n",
      "国家地理_judge 0.0947494925291\n",
      "centers 4:\n",
      "美食_judge 0.999734062668\n",
      "吃货_judge 0.0497597440505\n",
      "英国电影_judge 0.0479937540834\n",
      "centers 5:\n",
      "科普_judge 0.999907971648\n",
      "自然_judge 0.129847944824\n",
      "国家地理_judge 0.129833460067\n"
     ]
    }
   ],
   "source": [
    "#我将样本中出现“热门标签”对应1，没有则对应于0。所以若一个样本中某个标签对应的数据越接近于1，则倾向于该样本具有该标签。\n",
    "#通过观察这6个聚类的中心样本数据，我可以观察到这6个聚类分别对应着哪6种类型的纪录片。\n",
    "for i in range(6):\n",
    "    print('centers %d:'%i)\n",
    "    tem = pca.inverse_transform(centers[i]).tolist()\n",
    "    for j in sorted(pca.inverse_transform(centers[i]), reverse = True)[:3]: #查看前三个最大值（越大越接近于1）\n",
    "        index_num = tem.index(j)\n",
    "        tem[index_num] = 0\n",
    "        print(tagdf.columns[index_num], j)"
   ]
  },
  {
   "cell_type": "markdown",
   "metadata": {},
   "source": [
    "**centers0：** 杂食系。最大值也不到0.1，远低于1。这说明该类样本中倾向与不具有任何“热门标签”，即该类纪录片没有一个热门的特征（标签）能够概括，这个类别里包含了各种各样的纪录片类型，且占所有样本的比重超过一半，也可以侧面说明豆瓣用户对纪录片的品味还是十分“杂食”的。the rate of centers[0] is 0.562436:  \n",
    "**centers1：** 历史类纪录片。the rate of centers[1] is 0.123839   \n",
    "**centers2：** 自然类纪录片。the rate of centers[2] is 0.092879  \n",
    "**centers3：** 动物类纪录片。the rate of centers[3] is 0.098039  \n",
    "**centers4：** 美食类摄的纪录片。the rate of centers[4] is 0.043344  \n",
    "**centers5：** 科普类纪录片。the rate of centers[5] is 0.079463  \n",
    "从纪录片的类型来看，豆瓣高分纪录片的类型可以说是包罗万象，超过一半的高分榜纪录片不能归结于某一特定的类型，这也从另一角度说明了豆瓣用户喜好的多样性，而近一半的高分纪录片可以分类为：历史、自然、动物、美食、科普这几大类，可以看出豆瓣用户对这几大类型的纪录片十分的热爱。"
   ]
  }
 ],
 "metadata": {
  "kernelspec": {
   "display_name": "Python 3",
   "language": "python",
   "name": "python3"
  },
  "language_info": {
   "codemirror_mode": {
    "name": "ipython",
    "version": 3
   },
   "file_extension": ".py",
   "mimetype": "text/x-python",
   "name": "python",
   "nbconvert_exporter": "python",
   "pygments_lexer": "ipython3",
   "version": "3.5.4"
  }
 },
 "nbformat": 4,
 "nbformat_minor": 2
}
